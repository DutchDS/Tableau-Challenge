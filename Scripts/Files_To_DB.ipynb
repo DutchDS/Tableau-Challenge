{
 "cells": [
  {
   "cell_type": "code",
   "execution_count": 42,
   "metadata": {},
   "outputs": [],
   "source": [
    "import pandas as pd\n",
    "import re\n",
    "import os\n",
    "import csv\n",
    "import time\n",
    "import pprint\n",
    "from datetime import datetime, timedelta\n",
    "from sqlalchemy import create_engine"
   ]
  },
  {
   "cell_type": "code",
   "execution_count": 61,
   "metadata": {},
   "outputs": [],
   "source": [
    "def process_file(bike_file, date, year, month):\n",
    "\n",
    "    print(\"now processing: \" + bike_file)\n",
    "    df_bikes = pd.read_csv(bike_file)\n",
    "    df_bikes['year'] = year\n",
    "    df_bikes['yyyymm'] = date\n",
    "    df_bikes['month'] = month\n",
    "    \n",
    "    save_to_db(df_bikes)"
   ]
  },
  {
   "cell_type": "code",
   "execution_count": 40,
   "metadata": {},
   "outputs": [],
   "source": [
    "def save_to_db(df_bikes):\n",
    "    \n",
    "    connection_string = \"postgres:postgres@localhost:5432/bike_db\"\n",
    "    engine = create_engine(f'postgresql://{connection_string}')\n",
    "\n",
    "    df_bikes.to_sql(name='bike_data', con=engine, if_exists='append', index=False)"
   ]
  },
  {
   "cell_type": "code",
   "execution_count": 62,
   "metadata": {
    "scrolled": false
   },
   "outputs": [
    {
     "name": "stdout",
     "output_type": "stream",
     "text": [
      "now processing: ../Resources/JC-201509-citibike-tripdata.csv\n",
      "now processing: ../Resources/JC-201510-citibike-tripdata.csv\n",
      "now processing: ../Resources/JC-201511-citibike-tripdata.csv\n",
      "now processing: ../Resources/JC-201512-citibike-tripdata.csv\n",
      "now processing: ../Resources/JC-201601-citibike-tripdata.csv\n",
      "now processing: ../Resources/JC-201602-citibike-tripdata.csv\n",
      "now processing: ../Resources/JC-201603-citibike-tripdata.csv\n",
      "now processing: ../Resources/JC-201604-citibike-tripdata.csv\n",
      "now processing: ../Resources/JC-201605-citibike-tripdata.csv\n",
      "now processing: ../Resources/JC-201606-citibike-tripdata.csv\n",
      "now processing: ../Resources/JC-201607-citibike-tripdata.csv\n",
      "now processing: ../Resources/JC-201608-citibike-tripdata.csv\n",
      "now processing: ../Resources/JC-201609-citibike-tripdata.csv\n",
      "now processing: ../Resources/JC-201610-citibike-tripdata.csv\n",
      "now processing: ../Resources/JC-201611-citibike-tripdata.csv\n",
      "now processing: ../Resources/JC-201612-citibike-tripdata.csv\n",
      "now processing: ../Resources/JC-201701-citibike-tripdata.csv\n",
      "now processing: ../Resources/JC-201702-citibike-tripdata.csv\n",
      "now processing: ../Resources/JC-201703-citibike-tripdata.csv\n",
      "now processing: ../Resources/JC-201704-citibike-tripdata.csv\n",
      "now processing: ../Resources/JC-201705-citibike-tripdata.csv\n",
      "now processing: ../Resources/JC-201706-citibike-tripdata.csv\n",
      "now processing: ../Resources/JC-201707-citibike-tripdata.csv\n",
      "now processing: ../Resources/JC-201708 citibike-tripdata.csv\n",
      "now processing: ../Resources/JC-201709-citibike-tripdata.csv\n",
      "now processing: ../Resources/JC-201710-citibike-tripdata.csv\n",
      "now processing: ../Resources/JC-201711-citibike-tripdata.csv\n",
      "now processing: ../Resources/JC-201712-citibike-tripdata.csv\n",
      "now processing: ../Resources/JC-201801-citibike-tripdata.csv\n",
      "now processing: ../Resources/JC-201802-citibike-tripdata.csv\n",
      "now processing: ../Resources/JC-201803-citibike-tripdata.csv\n",
      "now processing: ../Resources/JC-201804-citibike-tripdata.csv\n",
      "now processing: ../Resources/JC-201805-citibike-tripdata.csv\n",
      "now processing: ../Resources/JC-201806-citibike-tripdata.csv\n",
      "now processing: ../Resources/JC-201807-citibike-tripdata.csv\n",
      "now processing: ../Resources/JC-201808-citibike-tripdata.csv\n",
      "now processing: ../Resources/JC-201809-citibike-tripdata.csv\n",
      "now processing: ../Resources/JC-201810-citibike-tripdata.csv\n",
      "now processing: ../Resources/JC-201811-citibike-tripdata.csv\n",
      "now processing: ../Resources/JC-201812-citibike-tripdata.csv\n",
      "now processing: ../Resources/JC-201901-citibike-tripdata.csv\n",
      "now processing: ../Resources/JC-201902-citibike-tripdata.csv\n",
      "now processing: ../Resources/JC-201903-citibike-tripdata.csv\n",
      "now processing: ../Resources/JC-201904-citibike-tripdata.csv\n",
      "now processing: ../Resources/JC-201905-citibike-tripdata.csv\n",
      "now processing: ../Resources/JC-201906-citibike-tripdata.csv\n",
      "now processing: ../Resources/JC-201907-citibike-tripdata.csv\n",
      "now processing: ../Resources/JC-201908-citibike-tripdata.csv\n",
      "now processing: ../Resources/JC-201909-citibike-tripdata.csv\n",
      "now processing: ../Resources/JC-201910-citibike-tripdata.csv\n",
      "now processing: ../Resources/JC-201911-citibike-tripdata.csv\n",
      "now processing: ../Resources/JC-201912-citibike-tripdata.csv\n",
      "now processing: ../Resources/JC-202001-citibike-tripdata.csv\n",
      "Done\n"
     ]
    }
   ],
   "source": [
    "# Loop through all files available and call process_file script to save_to_db\n",
    "input_file = open('all_files.txt')\n",
    "try:\n",
    "    for i, line in enumerate(input_file):\n",
    "        # Remove hard return from line-string\n",
    "        line = line[:-1]\n",
    "#         print(\"---\"+line+\"---\")\n",
    "        bike_file = \"../Resources/\" + line\n",
    "        date = line[3:9]\n",
    "        month = line[7:9]\n",
    "        year = line[3:7]\n",
    "#         print(line,date, month, year)\n",
    "        process_file(bike_file, date, year, month)\n",
    "finally:\n",
    "    input_file.close()\n",
    "    print(\"Done\")"
   ]
  }
 ],
 "metadata": {
  "kernelspec": {
   "display_name": "Python [conda env:PythonData]",
   "language": "python",
   "name": "conda-env-PythonData-py"
  },
  "language_info": {
   "codemirror_mode": {
    "name": "ipython",
    "version": 3
   },
   "file_extension": ".py",
   "mimetype": "text/x-python",
   "name": "python",
   "nbconvert_exporter": "python",
   "pygments_lexer": "ipython3",
   "version": "3.6.9"
  }
 },
 "nbformat": 4,
 "nbformat_minor": 2
}
